{
  "cells": [
    {
      "cell_type": "markdown",
      "metadata": {
        "id": "view-in-github",
        "colab_type": "text"
      },
      "source": [
        "<a href=\"https://colab.research.google.com/github/cellphone0966644265/storage-samples/blob/main/download_to_onedrive.ipynb\" target=\"_parent\"><img src=\"https://colab.research.google.com/assets/colab-badge.svg\" alt=\"Open In Colab\"/></a>"
      ]
    },
    {
      "cell_type": "markdown",
      "metadata": {
        "id": "J52UcRvTx-pA"
      },
      "source": [
        "# 1.Install Rclone and Upload File Rclone.config<img src='https://biplobsd.github.io/RLabClone/img/title_rclonelab.svg' height=\"45\" alt=\"RcloneLab\"/>\n",
        "\n",
        "rclone.config file\n",
        "\n",
        "1 download rclone https://rclone.org/downloads/\n",
        "\n",
        "2 create rclone config file https://www.youtube.com/watch?v=Sp9lG_BYlSg"
      ]
    },
    {
      "cell_type": "code",
      "execution_count": null,
      "metadata": {
        "id": "967x0RwzyWCb",
        "cellView": "form"
      },
      "outputs": [],
      "source": [
        "!python -m pip install --upgrade pip setuptools wheel\n",
        "!python -m pip install lbry-libtorrent\n",
        "!wget https://downloads.rclone.org/v1.52.1/rclone-v1.52.1-linux-amd64.deb\n",
        "!apt install ./rclone-v1.52.1-linux-amd64.deb\n",
        "import libtorrent as lt\n",
        "ses = lt.session()\n",
        "ses.listen_on(6881, 6891)\n",
        "downloads = []\n",
        "# @title Install Rclone and Upload File Rclone.config {vertical-output: true}\n",
        "Setup_Time_Zone = False\n",
        "import os; from google.colab import files; from IPython.display import HTML, clear_output\n",
        "def upload_conf():\n",
        "  try:\n",
        "    display(HTML(\"<h2 style=\\\"font-family:Trebuchet MS;color:#f9bd0d;\\\">Vui lòng upload file (rclone.conf) từ máy tính của bạn.</h2><br>\"))\n",
        "    UploadConfig = files.upload().keys()\n",
        "    clear_output(wait=True)\n",
        "    if len(UploadConfig) == 0:\n",
        "      return display(HTML(\"<center><h2 style=\\\"font-family:Trebuchet MS;color:#ce2121;\\\">Tải lên tệp đã bị hủy trong khi tải tệp lên.</h2><br></center>\"))\n",
        "    elif len(UploadConfig) == 1:\n",
        "      for fn in UploadConfig:\n",
        "        if os.path.isfile(\"/content/\" + fn) == True:\n",
        "          os.environ[\"rclone_conf\"] = fn\n",
        "          !mv -f \"$rclone_conf\" /root/.rclone.conf\n",
        "          !chmod 666 /root/.rclone.conf\n",
        "          if Setup_Time_Zone == True:\n",
        "            !sudo dpkg-reconfigure tzdata\n",
        "            clear_output(wait=True)\n",
        "          if os.path.isfile(\"/usr/bin/rclone\") == True:\n",
        "            return display(HTML(\"<center><h2 style=\\\"font-family:Trebuchet MS;color:#f50e02;\\\">Cấu hình đã được thay đổi.</h2><br></center>\"))\n",
        "          else:\n",
        "            !rm -rf /content/sample_data/\n",
        "            !curl -s https://rclone.org/install.sh | sudo bash\n",
        "            clear_output(wait=True)\n",
        "            return display(HTML(\"<center><h2 style=\\\"font-family:Trebuchet MS;color:#f9bd0d;\\\">Quá trình cài đặt đã hoàn tất thành công.</h2><br></center>\"))\n",
        "        else:\n",
        "          return display(HTML(\"<center><h2 style=\\\"font-family:Trebuchet MS;color:#f50e02;\\\">Tải lên tệp không thành công trong quá trình tải tệp lên.</h2><br></center>\"))\n",
        "    else:\n",
        "      for fn in UploadConfig:\n",
        "        os.environ[\"rclone_conf\"] = fn\n",
        "        !rm -f \"$rclone_conf\"\n",
        "      return display(HTML(\"<center><h2 style=\\\"font-family:Trebuchet MS;color:#f50e02;\\\">Vui lòng chỉ tải lên một tệp mỗi lần.</h2><br></center>\"))\n",
        "  except:\n",
        "    clear_output(wait=True)\n",
        "    return display(HTML(\"<center><h2 style=\\\"font-family:Trebuchet MS;color:#f50e02;\\\">Đã xảy ra lỗi trong quá trình tải tệp lên.</h2><br></center>\"))\n",
        "\n",
        "upload_conf()\n",
        "!mkdir onedrive\n",
        "!nohup rclone --vfs-cache-mode writes mount onedrive: ./onedrive &"
      ]
    },
    {
      "cell_type": "markdown",
      "metadata": {
        "id": "rLRA743vRnqy"
      },
      "source": []
    },
    {
      "cell_type": "markdown",
      "metadata": {
        "id": "IMgeaazpytxI"
      },
      "source": [
        "# 2. <font color='orange'>Check Mounted"
      ]
    },
    {
      "cell_type": "code",
      "execution_count": null,
      "metadata": {
        "cellView": "form",
        "id": "UuAga4Edymzm"
      },
      "outputs": [],
      "source": [
        "# @title Check mount { vertical-output: true }\n",
        "!ls /content/onedrive/"
      ]
    },
    {
      "cell_type": "markdown",
      "metadata": {
        "id": "p1Q5r7SYmNJk"
      },
      "source": [
        "# 3. <font color='orange'>Download"
      ]
    },
    {
      "cell_type": "code",
      "execution_count": null,
      "metadata": {
        "id": "Qi9zPVJCJngE",
        "cellView": "form"
      },
      "outputs": [],
      "source": [
        "# @title add url to download { vertical-output: true }\n",
        "file_name = input (\"File name.extention\")\n",
        "location = input(\"Locattion:\")\n",
        "url = input(\"URL\")\n",
        "!wget -O /content/onedrive/\"$location\"/\"$file_name\" \"$url\"\n"
      ]
    },
    {
      "cell_type": "markdown",
      "metadata": {
        "id": "XMVmQg05lAA5"
      },
      "source": [
        "# 4. <font color='orange'>Download Torrent/Magnet Link"
      ]
    },
    {
      "cell_type": "code",
      "execution_count": null,
      "metadata": {
        "id": "0et2A6N3udA0",
        "cellView": "form"
      },
      "outputs": [],
      "source": [
        "# @title Add from torrent file { vertical-output: true }\n",
        "from google.colab import files\n",
        "\n",
        "source = files.upload()\n",
        "params = {\n",
        "    \"save_path\": \"/content/onedrive/Torrent\",\n",
        "    \"ti\": lt.torrent_info(list(source.keys())[0]),\n",
        "}\n",
        "downloads.append(ses.add_torrent(params))"
      ]
    },
    {
      "cell_type": "code",
      "execution_count": null,
      "metadata": {
        "id": "Cwi1GMlxy3te",
        "cellView": "form"
      },
      "outputs": [],
      "source": [
        "# @title Add from magnet link { vertical-output: true }\n",
        "params = {\"save_path\": \"/content/onedrive/Torrent\"}\n",
        "\n",
        "while True:\n",
        "    magnet_link = input(\"Enter Magnet Link Or Type Exit: \")\n",
        "    if magnet_link.lower() == \"exit\":\n",
        "        break\n",
        "    downloads.append(\n",
        "        lt.add_magnet_uri(ses, magnet_link, params)\n",
        "    )\n"
      ]
    },
    {
      "cell_type": "code",
      "execution_count": null,
      "metadata": {
        "id": "DBNoYYoSuDBT",
        "cellView": "form"
      },
      "outputs": [],
      "source": [
        "# @title Start download { vertical-output: true }\n",
        "import time\n",
        "from IPython.display import display\n",
        "import ipywidgets as widgets\n",
        "\n",
        "state_str = [\n",
        "    \"queued\",\n",
        "    \"checking\",\n",
        "    \"downloading metadata\",\n",
        "    \"downloading\",\n",
        "    \"finished\",\n",
        "    \"seeding\",\n",
        "    \"allocating\",\n",
        "    \"checking fastresume\",\n",
        "]\n",
        "\n",
        "layout = widgets.Layout(width=\"auto\")\n",
        "style = {\"description_width\": \"initial\"}\n",
        "download_bars = [\n",
        "    widgets.FloatSlider(\n",
        "        step=0.01, disabled=True, layout=layout, style=style\n",
        "    )\n",
        "    for _ in downloads\n",
        "]\n",
        "display(*download_bars)\n",
        "\n",
        "while downloads:\n",
        "    next_shift = 0\n",
        "    for index, download in enumerate(downloads[:]):\n",
        "        bar = download_bars[index + next_shift]\n",
        "        if not download.is_seed():\n",
        "            s = download.status()\n",
        "\n",
        "            bar.description = \" \".join(\n",
        "                [\n",
        "                    download.name(),\n",
        "                    str(s.download_rate / 1000),\n",
        "                    \"kB/s\",\n",
        "                    state_str[s.state],\n",
        "                ]\n",
        "            )\n",
        "            bar.value = s.progress * 100\n",
        "        else:\n",
        "            next_shift -= 1\n",
        "            ses.remove_torrent(download)\n",
        "            downloads.remove(download)\n",
        "            bar.close() # Seems to be not working in Colab (see https://github.com/googlecolab/colabtools/issues/726#issue-486731758)\n",
        "            download_bars.remove(bar)\n",
        "            print(download.name(), \"complete\")\n",
        "    time.sleep(1)\n"
      ]
    }
  ],
  "metadata": {
    "colab": {
      "provenance": [],
      "include_colab_link": true
    },
    "kernelspec": {
      "display_name": "Python 3",
      "name": "python3"
    },
    "language_info": {
      "name": "python"
    }
  },
  "nbformat": 4,
  "nbformat_minor": 0
}